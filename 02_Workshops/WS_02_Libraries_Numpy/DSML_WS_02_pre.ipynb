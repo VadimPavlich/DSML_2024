{
 "cells": [
  {
   "cell_type": "markdown",
   "metadata": {},
   "source": [
    "# `DSML_WS_02` - Introduction to Python Library Management & `NumPy`"
   ]
  },
  {
   "cell_type": "markdown",
   "metadata": {},
   "source": [
    "Please work on the following tasks **before** the second workshop session."
   ]
  },
  {
   "cell_type": "markdown",
   "metadata": {},
   "source": [
    "## 1. Programming a simple calculator in Python"
   ]
  },
  {
   "cell_type": "markdown",
   "metadata": {},
   "source": [
    "Last week, you made yourself familiar with Python, getting to know about data structures like values, lists and dictionaries, explored for loops and if statements, and learned how to define functions. To put your knowledge of basic Python to the test, write a properly documented python function that can perform the taks of a simple calculator with the following behaviour:\n",
    "\n",
    "1. The user shall pass the desired mathematical operation (plus, minus, divide, multiply) and two numbers\n",
    "\n",
    "2. The result shall be calculated and printed\n",
    "\n",
    "3. If the input for the mathematical operation is not covered by the list from above, print \"Please correct your input\"\n",
    "\n",
    "**You should use the following elements:** \n",
    "\n",
    "- If/elif/else statement\n",
    "- Functions\n",
    "- Mathematical expressions"
   ]
  },
  {
   "cell_type": "code",
   "execution_count": 3,
   "metadata": {},
   "outputs": [],
   "source": [
    "def simple_calc(first_num, ops, second_num):\n",
    "    \"\"\"\n",
    "    Perform a mathematical operation between two numbers\n",
    "    ...\n",
    "    \n",
    "    Arguments\n",
    "    ---------\n",
    "    first_num     : int/float\n",
    "                    first number in calculation\n",
    "                    \n",
    "    ops           : str\n",
    "                    mathematical operation; ops=[\"plus\", \"minus\", \"multiply\", \"divide\"]\n",
    "    \n",
    "    second_num    : int/float\n",
    "                    second number in calculation\n",
    "    \n",
    "    Returns\n",
    "    -------\n",
    "    result : str\n",
    "            Operation and results of operation as string\n",
    "    \"\"\"\n",
    "    #### your code below ####\n",
    "\n",
    "    if type(first_num) != int and type(first_num) != float:\n",
    "        return print(\"Please provide numerical input for the first number\")\n",
    "    \n",
    "    if type(second_num) != int and type(second_num) != float:\n",
    "        return print(\"Please provide numerical input for the second number\")\n",
    "    \n",
    "    if ops not in [\"plus\", \"minus\", \"multiply\", \"divide\"]:\n",
    "        return print(\"Please provide valid operation! choose from [plus, minus, multiply, divide]\")\n",
    "\n",
    "    if ops == \"plus\":\n",
    "        result = first_num + second_num\n",
    "    elif ops == \"minus\":     \n",
    "        result = first_num - second_num\n",
    "    elif ops == \"multiply\":     \n",
    "        result = first_num * second_num\n",
    "    elif ops == \"devide\":\n",
    "        result = first_num / second_num\n",
    "\n",
    "    return print(first_num, ops, second_num, \"=\", result)\n",
    "\n"
   ]
  },
  {
   "cell_type": "code",
   "execution_count": 4,
   "metadata": {},
   "outputs": [
    {
     "name": "stdout",
     "output_type": "stream",
     "text": [
      "49 multiply 51 = 2499\n"
     ]
    }
   ],
   "source": [
    "# try out your calculator by calling the simple_calc function with different argument values\n",
    "simple_calc(49, \"multiply\", 51)"
   ]
  },
  {
   "cell_type": "markdown",
   "metadata": {},
   "source": [
    "## 2. Getting started with NumPy"
   ]
  },
  {
   "cell_type": "markdown",
   "metadata": {},
   "source": [
    "This week, we will be exploring our first Python package, namely NumPy. Get prepared for the workshop by completing the below steps:"
   ]
  },
  {
   "cell_type": "markdown",
   "metadata": {},
   "source": [
    "In order to use NumPy's capabilities, we first have to import it. Do this by running the following cell. We use the `as` keyword so we can use an abbreviation when calling NumPy methods."
   ]
  },
  {
   "cell_type": "code",
   "execution_count": 14,
   "metadata": {},
   "outputs": [],
   "source": [
    "import numpy as np"
   ]
  },
  {
   "cell_type": "markdown",
   "metadata": {},
   "source": [
    "The core structure of NumPy is the N-dimensional array object. You can create arrays using `np.array([..,..,..])`. Do the following:\n",
    "1. Create a list of 5 integers and assign it to a variable called `lst`.\n",
    "2. Use `lst` to create a NumPy array, and assign this array to a variable called `my_first_array`.\n",
    "3. Verify that the type of `my_first_array` is np.array.\n",
    "4. Create a second array, consisting of the first 3 numbers from `my_first_array`, and assign it to a variable called `my_second_array` (tip: selecting a subset of elements from arrays works similarly to lists).\n",
    "5. Create a third array, which contains each number from `my_second_array` multiplied by 3, and assign it to a variable called `my_third_array` (tip: thinking about list operations from last week will help you here once again)."
   ]
  },
  {
   "cell_type": "code",
   "execution_count": 23,
   "metadata": {},
   "outputs": [
    {
     "name": "stdout",
     "output_type": "stream",
     "text": [
      "[1 2 3 4 5]\n",
      "[1 2 3]\n",
      "[3 6 9]\n"
     ]
    }
   ],
   "source": [
    "# your code here\n",
    "lst = [1, 2, 3, 4, 5]\n",
    "my_first_array = np.array(lst)\n",
    "print(my_first_array)\n",
    "\n",
    "my_second_array = my_fist_arrray [:3]\n",
    "print(my_second_array)\n",
    "\n",
    "my_third_array = my_second_arrray * 3\n",
    "print(my_third_array)\n"
   ]
  },
  {
   "cell_type": "markdown",
   "metadata": {},
   "source": [
    "Finally, let's combine `my_second_array` and `my_third_array`. We can use the functions np.hstack((`first_array`,`second_array`)) or np.vstack((`first_array`,`second_array`)) for this. Combine `my_second_array` and `my_third_array` using both functions. How does the output differ? Can I also use both functions to combine `my_first_array`and `my_second_array`?"
   ]
  },
  {
   "cell_type": "code",
   "execution_count": 21,
   "metadata": {},
   "outputs": [
    {
     "data": {
      "text/plain": [
       "array([1, 2, 3, 3, 6, 9])"
      ]
     },
     "execution_count": 21,
     "metadata": {},
     "output_type": "execute_result"
    }
   ],
   "source": [
    "# your code here\n",
    "np.hstack((my_second_array, my_third_array))\n"
   ]
  },
  {
   "cell_type": "code",
   "execution_count": 20,
   "metadata": {},
   "outputs": [
    {
     "data": {
      "text/plain": [
       "array([[1, 2, 3],\n",
       "       [3, 6, 9]])"
      ]
     },
     "execution_count": 20,
     "metadata": {},
     "output_type": "execute_result"
    }
   ],
   "source": [
    "np.vstack((my_second_array, my_third_array))"
   ]
  },
  {
   "cell_type": "code",
   "execution_count": 24,
   "metadata": {},
   "outputs": [
    {
     "data": {
      "text/plain": [
       "array([1, 2, 3, 4, 5, 1, 2, 3])"
      ]
     },
     "execution_count": 24,
     "metadata": {},
     "output_type": "execute_result"
    }
   ],
   "source": [
    "np.hstack((my_first_array, my_second_array))"
   ]
  },
  {
   "cell_type": "code",
   "execution_count": 25,
   "metadata": {},
   "outputs": [
    {
     "ename": "ValueError",
     "evalue": "all the input array dimensions except for the concatenation axis must match exactly, but along dimension 1, the array at index 0 has size 5 and the array at index 1 has size 3",
     "output_type": "error",
     "traceback": [
      "\u001b[0;31m---------------------------------------------------------------------------\u001b[0m",
      "\u001b[0;31mValueError\u001b[0m                                Traceback (most recent call last)",
      "Cell \u001b[0;32mIn[25], line 1\u001b[0m\n\u001b[0;32m----> 1\u001b[0m np\u001b[38;5;241m.\u001b[39mvstack((my_first_array, my_second_array))\n",
      "File \u001b[0;32m/opt/miniconda3/envs/DSML_env/lib/python3.12/site-packages/numpy/core/shape_base.py:289\u001b[0m, in \u001b[0;36mvstack\u001b[0;34m(tup, dtype, casting)\u001b[0m\n\u001b[1;32m    287\u001b[0m \u001b[38;5;28;01mif\u001b[39;00m \u001b[38;5;129;01mnot\u001b[39;00m \u001b[38;5;28misinstance\u001b[39m(arrs, \u001b[38;5;28mlist\u001b[39m):\n\u001b[1;32m    288\u001b[0m     arrs \u001b[38;5;241m=\u001b[39m [arrs]\n\u001b[0;32m--> 289\u001b[0m \u001b[38;5;28;01mreturn\u001b[39;00m _nx\u001b[38;5;241m.\u001b[39mconcatenate(arrs, \u001b[38;5;241m0\u001b[39m, dtype\u001b[38;5;241m=\u001b[39mdtype, casting\u001b[38;5;241m=\u001b[39mcasting)\n",
      "\u001b[0;31mValueError\u001b[0m: all the input array dimensions except for the concatenation axis must match exactly, but along dimension 1, the array at index 0 has size 5 and the array at index 1 has size 3"
     ]
    }
   ],
   "source": [
    "np.vstack((my_first_array, my_second_array))"
   ]
  }
 ],
 "metadata": {
  "kernelspec": {
   "display_name": "DSML_env",
   "language": "python",
   "name": "python3"
  },
  "language_info": {
   "codemirror_mode": {
    "name": "ipython",
    "version": 3
   },
   "file_extension": ".py",
   "mimetype": "text/x-python",
   "name": "python",
   "nbconvert_exporter": "python",
   "pygments_lexer": "ipython3",
   "version": "3.12.3"
  }
 },
 "nbformat": 4,
 "nbformat_minor": 2
}
